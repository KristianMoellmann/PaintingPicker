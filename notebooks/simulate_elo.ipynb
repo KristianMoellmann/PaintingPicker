{
 "cells": [
  {
   "cell_type": "markdown",
   "metadata": {},
   "source": [
    "Use the transitative properties of the Elo rating system to simulate new matches.\n",
    "\n",
    "However we would might see that A < B < C < D < E < C\n",
    "\n",
    "This is a cyclic dependency and we need to handle it. \n",
    "\n",
    "The Idea is to make a dictionary \"trans_wins_and_loses\" which has the following structure\n",
    "\n",
    "trans_wins_and_loses = {a: {W: {b, c, d}, L: {d, e, f}}, b: {W: {d, e, f}, L: {f}}, ...}\n",
    "\n",
    "Where the \"W\" set for image \"a\" is filled with the wins that image \"a\" both have and would have had given transitative properties. From this it is possible to create a new dictionary, called pure wins.\n",
    "\n",
    "pure_wins = {a: {b, c}, b: {d, e}, ...}\n",
    "\n",
    "Here the intersection betwen \"W\" and \"L\" are removed from \"W\" such that only pure \"W\" are present. \n",
    "\n",
    "To find them all we to go through them in a DFS algorithm manner.\n",
    "\n",
    "I imagine that "
   ]
  },
  {
   "cell_type": "code",
   "execution_count": 1,
   "metadata": {},
   "outputs": [],
   "source": [
    "import json\n",
    "from collections import defaultdict\n",
    "import matplotlib.pyplot as plt\n",
    "import numpy as np\n"
   ]
  },
  {
   "cell_type": "code",
   "execution_count": 3,
   "metadata": {},
   "outputs": [],
   "source": [
    "def load_match_data(filename):\n",
    "    \"\"\" Load match history from a JSON file. \"\"\"\n",
    "    with open(filename, 'r') as file:\n",
    "        return json.load(file)"
   ]
  },
  {
   "cell_type": "code",
   "execution_count": 5,
   "metadata": {},
   "outputs": [],
   "source": [
    "image_names = load_match_data('../scores/full/elo/kasper.json')\n",
    "match_data = load_match_data('../scores/full/elo/kasper_history.json')"
   ]
  },
  {
   "cell_type": "code",
   "execution_count": 6,
   "metadata": {},
   "outputs": [
    {
     "name": "stdout",
     "output_type": "stream",
     "text": [
      "last winner: 1107982080.jpg, {'W': {'1107972788.jpg', '1107891189.jpg', '1107948238.jpg'}, 'L': {'1107998391.jpg', '1107987072.jpg', '1107988593.jpg'}}\n",
      "last loser: 1107891189.jpg, {'W': {'1107849731.jpg', '1107840857.jpg'}, 'L': {'1107905702.jpg', '1108800014.jpg', '1107982080.jpg', '1107894352.jpg'}}\n"
     ]
    }
   ],
   "source": [
    "# Initialize the dictionary for tracking wins and losses\n",
    "transitative_wins_and_loses = {}\n",
    "for image_name in image_names.keys():\n",
    "    transitative_wins_and_loses[image_name] = {\"W\": set(), \"L\": set()}\n",
    "\n",
    "# Go trough each session which actually happend\n",
    "for session in match_data.keys():\n",
    "    for match in match_data[session]:\n",
    "        \n",
    "        if match_data[session][match][\"winner\"] == 0:\n",
    "            winner = match_data[session][match][\"left_image\"]\n",
    "            loser = match_data[session][match][\"right_image\"]\n",
    "            \n",
    "        elif match_data[session][match][\"winner\"] == 1:\n",
    "            loser = match_data[session][match][\"left_image\"]\n",
    "            winner = match_data[session][match][\"right_image\"]\n",
    "        \n",
    "        else:\n",
    "            draw_1 = match_data[session][match][\"left_image\"]\n",
    "            draw_2 = match_data[session][match][\"right_image\"]\n",
    "            # TODO implement draw\n",
    "        \n",
    "        transitative_wins_and_loses[winner][\"W\"].add(loser)\n",
    "        transitative_wins_and_loses[loser][\"L\"].add(winner)\n",
    "\n",
    "\n",
    "print(f\"last winner: {winner}, {transitative_wins_and_loses[winner]}\")\n",
    "print(f\"last loser: {loser}, {transitative_wins_and_loses[loser]}\")\n",
    "        "
   ]
  },
  {
   "cell_type": "code",
   "execution_count": 7,
   "metadata": {},
   "outputs": [],
   "source": [
    "# Now we will implement the transitive DFS algorithm\n",
    "pure_wins = dict()\n",
    "i = 0\n",
    "\n",
    "for image in transitative_wins_and_loses.keys():\n",
    "    # print(f\"Image: {image}\")\n",
    "    \n",
    "    # Go trough search list for wins untill it is empty\n",
    "    image_wins_set = set()\n",
    "    win_search_list = list(transitative_wins_and_loses[image][\"W\"])\n",
    "    while win_search_list:\n",
    "        beaten_image = win_search_list.pop()\n",
    "        if beaten_image not in image_wins_set:\n",
    "            image_wins_set.add(beaten_image)\n",
    "\n",
    "            for beaten_image_win in transitative_wins_and_loses[beaten_image][\"W\"]:\n",
    "                win_search_list.append(beaten_image_win)\n",
    "    \n",
    "    # print(f\"will beat {len(image_wins_set)} images: {image_wins_set}\")  \n",
    "          \n",
    "    # Go trough search list for losses untill it is empty\n",
    "    image_loss_set = set()\n",
    "    loss_search_list = list(transitative_wins_and_loses[image][\"L\"])\n",
    "    while loss_search_list:\n",
    "        beaten_by_image = loss_search_list.pop()\n",
    "        if beaten_by_image not in image_loss_set:\n",
    "            image_loss_set.add(beaten_by_image)\n",
    "\n",
    "            for beaten_image_loss in transitative_wins_and_loses[beaten_by_image][\"L\"]:\n",
    "                loss_search_list.append(beaten_image_loss) \n",
    "    \n",
    "    # print(f\"beaten by {len(image_loss_set)} images: {image_loss_set}\")\n",
    "    \n",
    "    \n",
    "    pure_wins[image] = image_wins_set - image_loss_set\n",
    "    # print(f\"pure wins {len(pure_wins[image])} images: {pure_wins[image]}\")\n",
    "    \n",
    "    # print(\"--------------------\")\n",
    "    # i += 1\n",
    "    # if i == 5:\n",
    "    #     break"
   ]
  },
  {
   "cell_type": "code",
   "execution_count": 9,
   "metadata": {},
   "outputs": [
    {
     "data": {
      "image/png": "[encoded data removed]",
      "text/plain": [
       "<Figure size 640x480 with 1 Axes>"
      ]
     },
     "metadata": {},
     "output_type": "display_data"
    }
   ],
   "source": [
    "# How many diffrent values are there\n",
    "all_values = []\n",
    "for values in pure_wins.values():\n",
    "    all_values.append(len(values))\n",
    "    \n",
    "all_values_set = set(all_values)\n",
    "\n",
    "# Create a histogram of the values\n",
    "plt.hist(all_values, range=[0, 700], bins=700, color='blue', edgecolor='black') \n",
    "\n",
    "# Add titles and labels\n",
    "plt.title(f'Histogram of the {len(all_values_set)} unique values')\n",
    "plt.xlabel('Value Range')\n",
    "plt.ylabel('Count')\n",
    "\n",
    "# Show the plot\n",
    "plt.show()\n"
   ]
  },
  {
   "cell_type": "code",
   "execution_count": 11,
   "metadata": {},
   "outputs": [
    {
     "name": "stdout",
     "output_type": "stream",
     "text": [
      "{'1108176529.jpg', '1107821663.jpg', '1107839614.jpg', '1108723163.jpg', '1107297276.jpg', '1108353262.jpg', '1108014346.jpg', '1108887391.jpg', '1108895395.jpg', '1108690584.jpg', '1108558151.jpg', '1107400009.jpg', '1108480248.jpg', '1108034318.jpg', '1108086154.jpg', '1108097514.jpg', '1107437701.jpg', '1107462700.jpg', '1108295226.jpg', '1107930197.jpg', '1108371573.jpg', '1108117103.jpg', '1108674371.jpg', '1108161250.jpg', '1108453013.jpg', '1108126278.jpg', '1108255822.jpg', '1108793500.jpg', '1108794495.jpg', '1108235735.jpg', '1108488771.jpg', '1108674402.jpg', '1108405320.jpg', '1108705832.jpg', '1108665331.jpg', '1107491703.jpg', '1108768160.jpg', '1108090323.jpg', '1107826050.jpg', '1108069437.jpg', '1108331977.jpg', '1107822828.jpg', '1108231546.jpg', '1108065027.jpg', '1108413756.jpg', '1108718334.jpg', '1108084582.jpg', '1108091588.jpg', '1108620443.jpg', '1107445590.jpg', '1107696759.jpg', '1108835078.jpg', '1108173692.jpg', '1108352960.jpg', '1108688452.jpg', '1107832409.jpg', '1108892411.jpg', '1108099707.jpg', '1107445421.jpg', '1108698720.jpg', '1108066463.jpg', '1108010709.jpg', '1108185106.jpg', '1107356038.jpg', '1108561878.jpg', '1107570465.jpg', '1107947872.jpg', '1108512505.jpg', '1108604527.jpg', '1108157097.jpg', '1108651734.jpg', '1108136078.jpg', '1107334497.jpg', '1108559528.jpg', '1107950717.jpg', '1108667494.jpg', '1108645036.jpg', '1108199471.jpg', '1107722832.jpg', '1108648489.jpg', '1108568735.jpg', '1108399757.jpg', '1108752407.jpg', '1108571489.jpg', '1108045095.jpg', '1108124644.jpg', '1108031663.jpg', '1107577284.jpg', '1108727660.jpg', '1107845090.jpg', '1108107918.jpg', '1108222077.jpg', '1108512462.jpg', '1108395387.jpg', '1108171725.jpg', '1107772230.jpg', '1108071870.jpg', '1107701397.jpg', '1108579638.jpg', '1108358051.jpg', '1108097263.jpg', '1107801771.jpg', '1108148823.jpg', '1108076529.jpg', '1108405874.jpg', '1108593221.jpg', '1108896504.jpg', '1107428352.jpg', '1107840274.jpg', '1108213440.jpg', '1108709428.jpg', '1108867077.jpg', '1107404525.jpg', '1108839870.jpg', '1107274932.jpg', '1107208009.jpg', '1108111377.jpg', '1108831153.jpg', '1108245207.jpg', '1108326954.jpg', '1107136826.jpg', '1108822510.jpg', '1108263613.jpg', '1107308032.jpg', '1108782962.jpg', '1108129610.jpg', '1107778090.jpg', '1108092290.jpg', '1108862641.jpg', '1108327443.jpg', '1108434288.jpg', '1107898967.jpg', '1108689377.jpg', '1107806379.jpg', '1107576990.jpg', '1108528538.jpg', '1108263808.jpg', '1108860252.jpg', '1107787455.jpg', '1108866153.jpg', '1107838456.jpg', '1108781703.jpg', '1108078063.jpg', '1108747225.jpg', '1108811127.jpg', '1108089850.jpg', '1108792544.jpg', '1108249830.jpg', '1108856678.jpg', '1108680540.jpg', '1108694733.jpg', '1108063456.jpg', '1108730297.jpg', '1107558675.jpg', '1108417255.jpg', '1108581169.jpg', '1108171678.jpg', '1108486821.jpg', '1108447672.jpg', '1108756677.jpg', '1108806288.jpg', '1108508997.jpg', '1107722348.jpg', '1108447924.jpg', '1108239247.jpg', '1108384473.jpg', '1108679443.jpg', '1107789326.jpg', '1108191821.jpg', '1107664257.jpg', '1108145900.jpg', '1107561197.jpg', '1107334478.jpg', '1107407826.jpg', '1108371837.jpg', '1108753903.jpg', '1108718849.jpg', '1108067557.jpg', '1108365449.jpg', '1108854524.jpg', '1107928442.jpg', '1107491664.jpg', '1108533693.jpg', '1107923113.jpg', '1108087064.jpg', '1108912359.jpg', '1108126096.jpg', '1107817275.jpg', '1108404777.jpg', '1108099854.jpg', '1107849731.jpg', '1107799454.jpg', '1108126678.jpg', '1107713427.jpg', '1108126682.jpg', '1107889049.jpg', '1108905193.jpg', '1107321105.jpg', '1108151157.jpg', '1108290749.jpg', '1108549936.jpg', '1108082078.jpg', '1108146946.jpg', '1107645931.jpg', '1108164857.jpg', '1108360537.jpg', '1108740981.jpg', '1108062401.jpg', '1107731083.jpg', '1108765325.jpg', '1108836167.jpg', '1108669046.jpg'}\n"
     ]
    }
   ],
   "source": [
    "print(pure_wins[image])"
   ]
  },
  {
   "cell_type": "code",
   "execution_count": 17,
   "metadata": {},
   "outputs": [],
   "source": [
    "def create_upcoming_match_list(pure_wins):\n",
    "    upcoming_matches = []\n",
    "    for image in pure_wins.keys():\n",
    "        for loser in pure_wins[image]:\n",
    "            upcoming_matches.append((image, loser))\n",
    "    return upcoming_matches"
   ]
  },
  {
   "cell_type": "code",
   "execution_count": 18,
   "metadata": {},
   "outputs": [],
   "source": [
    "upcoming_matches = create_upcoming_match_list(pure_wins)"
   ]
  },
  {
   "cell_type": "code",
   "execution_count": 37,
   "metadata": {},
   "outputs": [
    {
     "name": "stdout",
     "output_type": "stream",
     "text": [
      "[9, 2, 1, 8, 7, 3, 10, 6, 5, 4]\n"
     ]
    }
   ],
   "source": [
    "import random\n",
    "\n",
    "my_list = [1, 2, 3, 4, 5, 6, 7, 8, 9, 10]\n",
    "random.shuffle(my_list)\n",
    "print(my_list)"
   ]
  },
  {
   "cell_type": "code",
   "execution_count": 38,
   "metadata": {},
   "outputs": [
    {
     "name": "stdout",
     "output_type": "stream",
     "text": [
      "Match 0: 1099890139.jpg vs 1108176529.jpg, type: <class 'tuple'>\n",
      "Match 1: 1099890139.jpg vs 1107821663.jpg, type: <class 'tuple'>\n",
      "Match 2: 1099890139.jpg vs 1107839614.jpg, type: <class 'tuple'>\n",
      "Match 3: 1099890139.jpg vs 1108723163.jpg, type: <class 'tuple'>\n",
      "Match 4: 1099890139.jpg vs 1107297276.jpg, type: <class 'tuple'>\n",
      "Match 5: 1099890139.jpg vs 1108353262.jpg, type: <class 'tuple'>\n",
      "Match 6: 1099890139.jpg vs 1108014346.jpg, type: <class 'tuple'>\n",
      "Match 7: 1099890139.jpg vs 1108887391.jpg, type: <class 'tuple'>\n",
      "Match 8: 1099890139.jpg vs 1108895395.jpg, type: <class 'tuple'>\n",
      "Match 9: 1099890139.jpg vs 1108690584.jpg, type: <class 'tuple'>\n"
     ]
    }
   ],
   "source": [
    "k = 0\n",
    "for match in upcoming_matches:\n",
    "    print(f\"Match {k}: {match[0]} vs {match[1]}, type: {type(match)}\")\n",
    "    k += 1\n",
    "    if k == 10:\n",
    "        break\n",
    "    "
   ]
  }
 ],
 "metadata": {
  "kernelspec": {
   "display_name": "Python 3",
   "language": "python",
   "name": "python3"
  },
  "language_info": {
   "codemirror_mode": {
    "name": "ipython",
    "version": 3
   },
   "file_extension": ".py",
   "mimetype": "text/x-python",
   "name": "python",
   "nbconvert_exporter": "python",
   "pygments_lexer": "ipython3",
   "version": "3.8.7"
  }
 },
 "nbformat": 4,
 "nbformat_minor": 2
}
